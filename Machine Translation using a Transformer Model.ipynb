{
 "cells": [
  {
   "cell_type": "markdown",
   "id": "ee5e9e9a-b529-405e-b663-22f2ba415647",
   "metadata": {},
   "source": [
    "# NLP Project: Machine Translation using a Transformer Model"
   ]
  },
  {
   "cell_type": "markdown",
   "id": "aab8f079-0f9b-4c6e-8f39-2195f6f48aa1",
   "metadata": {},
   "source": [
    "## Import required Libraries"
   ]
  },
  {
   "cell_type": "code",
   "execution_count": 2,
   "id": "ef0a4c19-747d-4827-a21f-745c30f540cd",
   "metadata": {},
   "outputs": [],
   "source": [
    "from transformers import MarianMTModel, MarianTokenizer"
   ]
  },
  {
   "cell_type": "markdown",
   "id": "61b66552-6f5b-4c55-ab16-5b4a5fa888f2",
   "metadata": {},
   "source": [
    "## Loading a pre-trained Model and a tokenizer"
   ]
  },
  {
   "cell_type": "code",
   "execution_count": 4,
   "id": "04a8341b-2553-41d4-8202-0bd3af72fac2",
   "metadata": {},
   "outputs": [],
   "source": [
    "model_name = \"Helsinki-NLP/opus-mt-en-fr\"\n",
    "tokenizer = MarianTokenizer.from_pretrained (model_name)\n",
    "model = MarianMTModel.from_pretrained (model_name)"
   ]
  },
  {
   "cell_type": "markdown",
   "id": "0635d047-cc0a-413e-adf3-0f508fdc4f37",
   "metadata": {},
   "source": [
    "## Defining the translation function"
   ]
  },
  {
   "cell_type": "code",
   "execution_count": 5,
   "id": "beb6a572-b29a-4054-a5b6-3aefbfe686d7",
   "metadata": {},
   "outputs": [],
   "source": [
    "def translate (text, src_lang = \"en\", tgt_lan = \"fr\"):\n",
    "    inputs = tokenizer(text, return_tensors= \"pt\", padding = True, truncation= True)\n",
    "    translated = model.generate (**inputs)\n",
    "    return tokenizer.decode (translated [0],skip_special_tokens = True)\n",
    "    "
   ]
  },
  {
   "cell_type": "markdown",
   "id": "8150f144-effa-42ca-8209-7868bef45b10",
   "metadata": {},
   "source": [
    "## Translate a sentence"
   ]
  },
  {
   "cell_type": "code",
   "execution_count": 6,
   "id": "ad881d6e-97d6-4db3-8a00-f244327fe90a",
   "metadata": {},
   "outputs": [
    {
     "name": "stdout",
     "output_type": "stream",
     "text": [
      "Translated Text: Bonjour, comment allez-vous ?\n"
     ]
    }
   ],
   "source": [
    "text = \"Hello. How are you?\"\n",
    "translated_text = translate (text)\n",
    "print (\"Translated Text:\",translated_text)"
   ]
  }
 ],
 "metadata": {
  "kernelspec": {
   "display_name": "Python 3 (ipykernel)",
   "language": "python",
   "name": "python3"
  },
  "language_info": {
   "codemirror_mode": {
    "name": "ipython",
    "version": 3
   },
   "file_extension": ".py",
   "mimetype": "text/x-python",
   "name": "python",
   "nbconvert_exporter": "python",
   "pygments_lexer": "ipython3",
   "version": "3.12.7"
  }
 },
 "nbformat": 4,
 "nbformat_minor": 5
}
